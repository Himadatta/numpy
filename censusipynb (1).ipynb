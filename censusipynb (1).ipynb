{
  "nbformat": 4,
  "nbformat_minor": 0,
  "metadata": {
    "colab": {
      "provenance": []
    },
    "kernelspec": {
      "name": "python3",
      "display_name": "Python 3"
    },
    "language_info": {
      "name": "python"
    }
  },
  "cells": [
    {
      "cell_type": "code",
      "execution_count": null,
      "metadata": {
        "id": "4Ol9awcJwPuV"
      },
      "outputs": [],
      "source": [
        "import numpy as np"
      ]
    },
    {
      "cell_type": "markdown",
      "source": [
        "**upload the data**"
      ],
      "metadata": {
        "id": "-LBdPKHQ5dwT"
      }
    },
    {
      "cell_type": "code",
      "source": [
        "data_file = \"/makeSenseOfCensus.csv\""
      ],
      "metadata": {
        "id": "KBN19TDCwbZ8"
      },
      "execution_count": null,
      "outputs": []
    },
    {
      "cell_type": "code",
      "source": [
        "data = np.genfromtxt(data_file, delimiter=\",\",skip_header =1)"
      ],
      "metadata": {
        "id": "yi6LHDcywbbv"
      },
      "execution_count": null,
      "outputs": []
    },
    {
      "cell_type": "markdown",
      "source": [
        "**print the data**"
      ],
      "metadata": {
        "id": "63MbK_wL5ljU"
      }
    },
    {
      "cell_type": "code",
      "source": [
        "# printing the data\n",
        "print('\\nData: \\n\\n', data)"
      ],
      "metadata": {
        "colab": {
          "base_uri": "https://localhost:8080/"
        },
        "id": "p0ysaN_Vwbeg",
        "outputId": "6b855ca7-77cb-42c7-a60c-e7e5ecab5c07"
      },
      "execution_count": null,
      "outputs": [
        {
          "output_type": "stream",
          "name": "stdout",
          "text": [
            "\n",
            "Data: \n",
            "\n",
            " [[39. 13.  4. ...  0. 40.  0.]\n",
            " [50. 13.  4. ...  0. 13.  0.]\n",
            " [38.  9.  4. ...  0. 40.  0.]\n",
            " ...\n",
            " [48. 13.  4. ...  0. 58.  1.]\n",
            " [40. 10.  4. ...  0. 40.  0.]\n",
            " [39. 13.  4. ...  0. 50.  1.]]\n"
          ]
        }
      ]
    },
    {
      "cell_type": "code",
      "source": [
        "# printing the type of data\n",
        "print(\"\\ntype of data: \\n\\n\", type(data))"
      ],
      "metadata": {
        "colab": {
          "base_uri": "https://localhost:8080/"
        },
        "id": "GeriX48YwbhB",
        "outputId": "8104fdc6-b909-4b89-d781-36abb93e7723"
      },
      "execution_count": null,
      "outputs": [
        {
          "output_type": "stream",
          "name": "stdout",
          "text": [
            "\n",
            "type of data: \n",
            "\n",
            " <class 'numpy.ndarray'>\n"
          ]
        }
      ]
    },
    {
      "cell_type": "code",
      "source": [
        "data.shape"
      ],
      "metadata": {
        "colab": {
          "base_uri": "https://localhost:8080/"
        },
        "id": "EC7em3i_yy6x",
        "outputId": "450c0a9c-98ba-44c0-8c17-2a1a5f88ac55"
      },
      "execution_count": null,
      "outputs": [
        {
          "output_type": "execute_result",
          "data": {
            "text/plain": [
              "(1000, 8)"
            ]
          },
          "metadata": {},
          "execution_count": 9
        }
      ]
    },
    {
      "cell_type": "code",
      "source": [
        "data.size"
      ],
      "metadata": {
        "colab": {
          "base_uri": "https://localhost:8080/"
        },
        "id": "k7SiztZYyy30",
        "outputId": "876752af-e423-46f1-ae0d-3e8393d67ec2"
      },
      "execution_count": null,
      "outputs": [
        {
          "output_type": "execute_result",
          "data": {
            "text/plain": [
              "8000"
            ]
          },
          "metadata": {},
          "execution_count": 10
        }
      ]
    },
    {
      "cell_type": "code",
      "source": [
        "data.ndim"
      ],
      "metadata": {
        "colab": {
          "base_uri": "https://localhost:8080/"
        },
        "id": "Ac3bQsmuy6mb",
        "outputId": "4c4ddb10-de33-4d6d-8877-9c8da37c82a1"
      },
      "execution_count": null,
      "outputs": [
        {
          "output_type": "execute_result",
          "data": {
            "text/plain": [
              "2"
            ]
          },
          "metadata": {},
          "execution_count": 11
        }
      ]
    },
    {
      "cell_type": "markdown",
      "source": [
        "**Append the new data**"
      ],
      "metadata": {
        "id": "4tt_nBg35zaO"
      }
    },
    {
      "cell_type": "code",
      "source": [
        "hima = [[21,15,4,0,0,0,35,0]]"
      ],
      "metadata": {
        "id": "5Qf1AMlU4jNS"
      },
      "execution_count": null,
      "outputs": []
    },
    {
      "cell_type": "code",
      "source": [
        "hima"
      ],
      "metadata": {
        "colab": {
          "base_uri": "https://localhost:8080/"
        },
        "id": "ndK1s9jN4jJM",
        "outputId": "3cd08437-0385-4646-a32f-ed79291797cb"
      },
      "execution_count": null,
      "outputs": [
        {
          "output_type": "execute_result",
          "data": {
            "text/plain": [
              "[[21, 15, 4, 0, 0, 0, 35, 0]]"
            ]
          },
          "metadata": {},
          "execution_count": 20
        }
      ]
    },
    {
      "cell_type": "code",
      "source": [
        "data = np.concatenate((data,hima))"
      ],
      "metadata": {
        "id": "5JHZjh3Z4jHK"
      },
      "execution_count": null,
      "outputs": []
    },
    {
      "cell_type": "code",
      "source": [
        "data"
      ],
      "metadata": {
        "colab": {
          "base_uri": "https://localhost:8080/"
        },
        "id": "eIz3PE1D4jFB",
        "outputId": "d4417a20-c5c1-4ab4-9700-d422b210fd10"
      },
      "execution_count": null,
      "outputs": [
        {
          "output_type": "execute_result",
          "data": {
            "text/plain": [
              "array([[39., 13.,  4., ...,  0., 40.,  0.],\n",
              "       [50., 13.,  4., ...,  0., 13.,  0.],\n",
              "       [38.,  9.,  4., ...,  0., 40.,  0.],\n",
              "       ...,\n",
              "       [40., 10.,  4., ...,  0., 40.,  0.],\n",
              "       [39., 13.,  4., ...,  0., 50.,  1.],\n",
              "       [21., 15.,  4., ...,  0., 35.,  0.]])"
            ]
          },
          "metadata": {},
          "execution_count": 22
        }
      ]
    },
    {
      "cell_type": "code",
      "source": [
        "data.shape"
      ],
      "metadata": {
        "colab": {
          "base_uri": "https://localhost:8080/"
        },
        "id": "L8_xdFdL4jC5",
        "outputId": "e9e261ec-29f2-40bb-ff10-0d82b83d26c3"
      },
      "execution_count": null,
      "outputs": [
        {
          "output_type": "execute_result",
          "data": {
            "text/plain": [
              "(1001, 8)"
            ]
          },
          "metadata": {},
          "execution_count": 23
        }
      ]
    },
    {
      "cell_type": "code",
      "source": [
        "data.size"
      ],
      "metadata": {
        "colab": {
          "base_uri": "https://localhost:8080/"
        },
        "id": "RbassQxr5Dan",
        "outputId": "3d11db4b-8090-4737-bd3b-5c2d6ba1bc83"
      },
      "execution_count": null,
      "outputs": [
        {
          "output_type": "execute_result",
          "data": {
            "text/plain": [
              "8008"
            ]
          },
          "metadata": {},
          "execution_count": 24
        }
      ]
    },
    {
      "cell_type": "markdown",
      "source": [
        "**question : check if it is young country or old country**"
      ],
      "metadata": {
        "id": "Y9RGpVHd5Ls1"
      }
    },
    {
      "cell_type": "markdown",
      "source": [
        "create a new array called 'age' by taking only age column (age column with index 0) of census array"
      ],
      "metadata": {
        "id": "gVHXWNcc74g4"
      }
    },
    {
      "cell_type": "code",
      "source": [
        "\n",
        "age = data[:,0]"
      ],
      "metadata": {
        "id": "f7ukJ3zE5CwY"
      },
      "execution_count": null,
      "outputs": []
    },
    {
      "cell_type": "markdown",
      "source": [
        "find the maximum age and store it in a variable called 'max_age'\n",
        "age.max"
      ],
      "metadata": {
        "id": "ezg3-W847tQZ"
      }
    },
    {
      "cell_type": "code",
      "source": [
        "max_age = np.max(age)"
      ],
      "metadata": {
        "id": "8XGdbXEX5CsX"
      },
      "execution_count": null,
      "outputs": []
    },
    {
      "cell_type": "code",
      "source": [
        "print(max_age)"
      ],
      "metadata": {
        "colab": {
          "base_uri": "https://localhost:8080/"
        },
        "id": "W8IBYEFV5Cpk",
        "outputId": "c4f61b71-7f5c-49da-bec4-1ad320c1984f"
      },
      "execution_count": null,
      "outputs": [
        {
          "output_type": "stream",
          "name": "stdout",
          "text": [
            "90.0\n"
          ]
        }
      ]
    },
    {
      "cell_type": "markdown",
      "source": [
        "Find the min age and store it in a variable called 'min_age'"
      ],
      "metadata": {
        "id": "35Gua9vj8_Ha"
      }
    },
    {
      "cell_type": "code",
      "source": [
        "min_age = np.min(age)"
      ],
      "metadata": {
        "id": "zrsQZX2H9WNc"
      },
      "execution_count": null,
      "outputs": []
    },
    {
      "cell_type": "code",
      "source": [
        "min_age"
      ],
      "metadata": {
        "colab": {
          "base_uri": "https://localhost:8080/"
        },
        "id": "qQQzv8dJ9WBn",
        "outputId": "e76d4020-6501-47ec-835c-c3fa2a205d2d"
      },
      "execution_count": null,
      "outputs": [
        {
          "output_type": "execute_result",
          "data": {
            "text/plain": [
              "17.0"
            ]
          },
          "metadata": {},
          "execution_count": 45
        }
      ]
    },
    {
      "cell_type": "markdown",
      "source": [
        "he mean of the age and store it in a variable called 'age_mean'."
      ],
      "metadata": {
        "id": "VO1biwKr9QRI"
      }
    },
    {
      "cell_type": "code",
      "source": [
        "# mean means average\n",
        "age_mean = np.mean(age)"
      ],
      "metadata": {
        "id": "6SozyCHM9Lev"
      },
      "execution_count": null,
      "outputs": []
    },
    {
      "cell_type": "code",
      "source": [
        "age_mean"
      ],
      "metadata": {
        "colab": {
          "base_uri": "https://localhost:8080/"
        },
        "id": "X2eIaar49rih",
        "outputId": "84657e4c-88ce-43d7-ec45-29b44d188e51"
      },
      "execution_count": null,
      "outputs": [
        {
          "output_type": "execute_result",
          "data": {
            "text/plain": [
              "38.03396603396603"
            ]
          },
          "metadata": {},
          "execution_count": 47
        }
      ]
    },
    {
      "cell_type": "markdown",
      "source": [
        "Find the standard deviation of the age and store it in a variable called 'age_std'"
      ],
      "metadata": {
        "id": "smDlebJ79117"
      }
    },
    {
      "cell_type": "code",
      "source": [
        "age_std = np.std(age)"
      ],
      "metadata": {
        "id": "MOjaDE7V91TV"
      },
      "execution_count": null,
      "outputs": []
    },
    {
      "cell_type": "code",
      "source": [
        "age_std"
      ],
      "metadata": {
        "colab": {
          "base_uri": "https://localhost:8080/"
        },
        "id": "pMp1MAzn9rkh",
        "outputId": "045b5529-2ccd-42cb-a73c-85fd1a365dd3"
      },
      "execution_count": null,
      "outputs": [
        {
          "output_type": "execute_result",
          "data": {
            "text/plain": [
              "13.347010993192175"
            ]
          },
          "metadata": {},
          "execution_count": 49
        }
      ]
    },
    {
      "cell_type": "markdown",
      "source": [
        "**Let's check the country's race distribution to identify the minorities**\n"
      ],
      "metadata": {
        "id": "VBcPCiH2-FOD"
      }
    },
    {
      "cell_type": "markdown",
      "source": [
        "Create four different arrays by subsetting 'census' array by Race column(Race is the column with index 2) and save them in 'race_0','race_1', 'race_2', 'race_3' and 'race_4' respectively(Meaning: Store the array where 'race'column has value 0 in 'race_0', so on and so forth)"
      ],
      "metadata": {
        "id": "WZU8ryrg-RhP"
      }
    },
    {
      "cell_type": "code",
      "source": [
        "race = data[:,2]"
      ],
      "metadata": {
        "id": "-NHMwQ279rnR"
      },
      "execution_count": null,
      "outputs": []
    },
    {
      "cell_type": "code",
      "source": [
        "race"
      ],
      "metadata": {
        "colab": {
          "base_uri": "https://localhost:8080/"
        },
        "id": "nAj8k5Cl9rq2",
        "outputId": "fd8ad21a-504c-4f64-d46a-79cab409046d"
      },
      "execution_count": null,
      "outputs": [
        {
          "output_type": "execute_result",
          "data": {
            "text/plain": [
              "array([4., 4., 4., ..., 4., 4., 4.])"
            ]
          },
          "metadata": {},
          "execution_count": 51
        }
      ]
    },
    {
      "cell_type": "code",
      "source": [
        "np.unique(race)"
      ],
      "metadata": {
        "colab": {
          "base_uri": "https://localhost:8080/"
        },
        "id": "kcv_7-bq9rtn",
        "outputId": "32a08bcc-4c4e-44a9-e8cc-afa282616935"
      },
      "execution_count": null,
      "outputs": [
        {
          "output_type": "execute_result",
          "data": {
            "text/plain": [
              "array([0., 1., 2., 3., 4.])"
            ]
          },
          "metadata": {},
          "execution_count": 52
        }
      ]
    },
    {
      "cell_type": "code",
      "source": [
        "race_0 = race[race == 0]\n",
        "race_1 = race[race==1]\n",
        "race_2 = race[race == 2]\n",
        "race_3 = race[race == 3]\n",
        "race_4 = race[race ==4]"
      ],
      "metadata": {
        "id": "BAM5oBFK9rwg"
      },
      "execution_count": null,
      "outputs": []
    },
    {
      "cell_type": "markdown",
      "source": [
        "Store the length of the above created arrays in 'len_0', 'len_1','len_2', 'len_3' and 'len_4' respectively"
      ],
      "metadata": {
        "id": "kbUaHUGHBqcx"
      }
    },
    {
      "cell_type": "code",
      "source": [
        "len_0 = len(race_0)\n",
        "len_0"
      ],
      "metadata": {
        "colab": {
          "base_uri": "https://localhost:8080/"
        },
        "id": "n0K43KL5BJFv",
        "outputId": "536ee633-2e96-46aa-979c-567787ee5176"
      },
      "execution_count": null,
      "outputs": [
        {
          "output_type": "execute_result",
          "data": {
            "text/plain": [
              "10"
            ]
          },
          "metadata": {},
          "execution_count": 58
        }
      ]
    },
    {
      "cell_type": "code",
      "source": [
        "len_1 = len(race_1)\n",
        "len_1"
      ],
      "metadata": {
        "colab": {
          "base_uri": "https://localhost:8080/"
        },
        "id": "oYxfy8moBJC4",
        "outputId": "153e776f-3e26-4e31-d1a3-d5bfe450450d"
      },
      "execution_count": null,
      "outputs": [
        {
          "output_type": "execute_result",
          "data": {
            "text/plain": [
              "27"
            ]
          },
          "metadata": {},
          "execution_count": 60
        }
      ]
    },
    {
      "cell_type": "code",
      "source": [
        "len_2 = len(race_2)\n",
        "len_2"
      ],
      "metadata": {
        "colab": {
          "base_uri": "https://localhost:8080/"
        },
        "id": "xnDEgE8LBxRg",
        "outputId": "e1c8339e-4956-4a1b-b6ba-51de8ce7acaa"
      },
      "execution_count": null,
      "outputs": [
        {
          "output_type": "execute_result",
          "data": {
            "text/plain": [
              "110"
            ]
          },
          "metadata": {},
          "execution_count": 61
        }
      ]
    },
    {
      "cell_type": "code",
      "source": [
        "len_3 = len(race_3)\n",
        "len_3"
      ],
      "metadata": {
        "colab": {
          "base_uri": "https://localhost:8080/"
        },
        "id": "HNwpSsZmBJA3",
        "outputId": "14e95bc3-f416-45a9-f20d-38dc42c7ccc4"
      },
      "execution_count": null,
      "outputs": [
        {
          "output_type": "execute_result",
          "data": {
            "text/plain": [
              "6"
            ]
          },
          "metadata": {},
          "execution_count": 63
        }
      ]
    },
    {
      "cell_type": "code",
      "source": [
        "len_4 = len(race_4)\n",
        "len_4"
      ],
      "metadata": {
        "colab": {
          "base_uri": "https://localhost:8080/"
        },
        "id": "Yhw-hjq9Dn92",
        "outputId": "489be430-d28f-412a-a86d-0c5de3f038bb"
      },
      "execution_count": null,
      "outputs": [
        {
          "output_type": "execute_result",
          "data": {
            "text/plain": [
              "848"
            ]
          },
          "metadata": {},
          "execution_count": 64
        }
      ]
    },
    {
      "cell_type": "markdown",
      "source": [
        "Find out which is the race with the minimum no. of citizens\n",
        "\n"
      ],
      "metadata": {
        "id": "ygXl9J1KD5tb"
      }
    },
    {
      "cell_type": "code",
      "source": [
        "race_len = [len_0,len_1,len_2,len_3,len_4]\n"
      ],
      "metadata": {
        "id": "7BfQjDFZDy35"
      },
      "execution_count": null,
      "outputs": []
    },
    {
      "cell_type": "code",
      "source": [
        "race_len"
      ],
      "metadata": {
        "colab": {
          "base_uri": "https://localhost:8080/"
        },
        "id": "WD1yjnquFLLw",
        "outputId": "c0b8548b-40fa-4159-8d28-58d69fab8d46"
      },
      "execution_count": null,
      "outputs": [
        {
          "output_type": "execute_result",
          "data": {
            "text/plain": [
              "[10, 27, 110, 6, 848]"
            ]
          },
          "metadata": {},
          "execution_count": 70
        }
      ]
    },
    {
      "cell_type": "markdown",
      "source": [
        "Store the number associated with the minority race in a variable called 'minority_race'(For eg: if \"len(race_5)\" is the minimum, store 5 in 'minority_race' because that is the index of the race having the least no. of citizens )"
      ],
      "metadata": {
        "id": "fnwNM3aFFuoT"
      }
    },
    {
      "cell_type": "code",
      "source": [
        "minority_race = np.argmin(race_len)"
      ],
      "metadata": {
        "id": "OG47EN2iFMAZ"
      },
      "execution_count": null,
      "outputs": []
    },
    {
      "cell_type": "code",
      "source": [
        "minority_race"
      ],
      "metadata": {
        "colab": {
          "base_uri": "https://localhost:8080/"
        },
        "id": "FXxF7TflDy1Z",
        "outputId": "9ac2af44-e32d-4e8d-c9da-358172fcffa5"
      },
      "execution_count": null,
      "outputs": [
        {
          "output_type": "execute_result",
          "data": {
            "text/plain": [
              "3"
            ]
          },
          "metadata": {},
          "execution_count": 74
        }
      ]
    },
    {
      "cell_type": "code",
      "source": [
        "majority_race = np.argmax(race_len)"
      ],
      "metadata": {
        "id": "SKnQnHe9Dyy_"
      },
      "execution_count": null,
      "outputs": []
    },
    {
      "cell_type": "code",
      "source": [
        "majority_race"
      ],
      "metadata": {
        "colab": {
          "base_uri": "https://localhost:8080/"
        },
        "id": "5qufQsFsDyw1",
        "outputId": "c94e6063-1d5e-4436-f9d4-0cd5f5045e65"
      },
      "execution_count": null,
      "outputs": [
        {
          "output_type": "execute_result",
          "data": {
            "text/plain": [
              "4"
            ]
          },
          "metadata": {},
          "execution_count": 76
        }
      ]
    },
    {
      "cell_type": "markdown",
      "source": [
        "**As per govt. records citizens above 60 should not work more than 25 hours a week. Let us check if the policy is in place**"
      ],
      "metadata": {
        "id": "rNk8kh-oGKwv"
      }
    },
    {
      "cell_type": "markdown",
      "source": [
        "Create a new subset array called 'senior_citizens' by filtering 'census' according to age>60 (age is the column with index 0)"
      ],
      "metadata": {
        "id": "28Wy5qMlGMgg"
      }
    },
    {
      "cell_type": "code",
      "source": [
        "senior_citizen = data[data[:,0]>60]"
      ],
      "metadata": {
        "id": "ZGYNVDazGWIj"
      },
      "execution_count": null,
      "outputs": []
    },
    {
      "cell_type": "code",
      "source": [
        "senior_citizen"
      ],
      "metadata": {
        "colab": {
          "base_uri": "https://localhost:8080/"
        },
        "id": "NFReHfvpGoNc",
        "outputId": "de6aae0e-4818-4324-8773-5dc293928f37"
      },
      "execution_count": null,
      "outputs": [
        {
          "output_type": "execute_result",
          "data": {
            "text/plain": [
              "array([[7.9000e+01, 1.0000e+01, 4.0000e+00, 1.0000e+00, 0.0000e+00,\n",
              "        0.0000e+00, 2.0000e+01, 0.0000e+00],\n",
              "       [6.7000e+01, 6.0000e+00, 4.0000e+00, 1.0000e+00, 0.0000e+00,\n",
              "        0.0000e+00, 2.0000e+00, 0.0000e+00],\n",
              "       [7.6000e+01, 1.4000e+01, 4.0000e+00, 1.0000e+00, 0.0000e+00,\n",
              "        0.0000e+00, 4.0000e+01, 1.0000e+00],\n",
              "       [6.1000e+01, 9.0000e+00, 4.0000e+00, 1.0000e+00, 0.0000e+00,\n",
              "        0.0000e+00, 4.0000e+01, 0.0000e+00],\n",
              "       [7.0000e+01, 1.0000e+01, 4.0000e+00, 1.0000e+00, 0.0000e+00,\n",
              "        0.0000e+00, 4.0000e+01, 0.0000e+00],\n",
              "       [6.4000e+01, 7.0000e+00, 4.0000e+00, 1.0000e+00, 0.0000e+00,\n",
              "        2.1790e+03, 4.0000e+01, 0.0000e+00],\n",
              "       [7.1000e+01, 1.0000e+01, 2.0000e+00, 1.0000e+00, 0.0000e+00,\n",
              "        1.8160e+03, 2.0000e+00, 0.0000e+00],\n",
              "       [6.8000e+01, 2.0000e+00, 4.0000e+00, 0.0000e+00, 0.0000e+00,\n",
              "        0.0000e+00, 2.0000e+01, 0.0000e+00],\n",
              "       [6.6000e+01, 1.1000e+01, 4.0000e+00, 0.0000e+00, 0.0000e+00,\n",
              "        0.0000e+00, 2.0000e+01, 0.0000e+00],\n",
              "       [6.4000e+01, 2.0000e+00, 4.0000e+00, 1.0000e+00, 0.0000e+00,\n",
              "        0.0000e+00, 4.0000e+01, 0.0000e+00],\n",
              "       [9.0000e+01, 9.0000e+00, 2.0000e+00, 1.0000e+00, 0.0000e+00,\n",
              "        2.2060e+03, 4.0000e+01, 0.0000e+00],\n",
              "       [6.6000e+01, 9.0000e+00, 4.0000e+00, 1.0000e+00, 1.4090e+03,\n",
              "        0.0000e+00, 5.0000e+01, 0.0000e+00],\n",
              "       [7.5000e+01, 1.1000e+01, 4.0000e+00, 0.0000e+00, 0.0000e+00,\n",
              "        0.0000e+00, 2.0000e+01, 0.0000e+00],\n",
              "       [6.5000e+01, 9.0000e+00, 4.0000e+00, 0.0000e+00, 0.0000e+00,\n",
              "        0.0000e+00, 4.0000e+01, 0.0000e+00],\n",
              "       [6.4000e+01, 9.0000e+00, 4.0000e+00, 1.0000e+00, 0.0000e+00,\n",
              "        0.0000e+00, 4.0000e+01, 1.0000e+00],\n",
              "       [6.1000e+01, 9.0000e+00, 4.0000e+00, 1.0000e+00, 0.0000e+00,\n",
              "        0.0000e+00, 4.0000e+01, 1.0000e+00],\n",
              "       [6.5000e+01, 9.0000e+00, 4.0000e+00, 1.0000e+00, 0.0000e+00,\n",
              "        0.0000e+00, 1.6000e+01, 0.0000e+00],\n",
              "       [7.7000e+01, 1.0000e+01, 4.0000e+00, 1.0000e+00, 0.0000e+00,\n",
              "        0.0000e+00, 4.0000e+01, 0.0000e+00],\n",
              "       [6.2000e+01, 9.0000e+00, 4.0000e+00, 0.0000e+00, 0.0000e+00,\n",
              "        0.0000e+00, 2.4000e+01, 0.0000e+00],\n",
              "       [7.6000e+01, 1.4000e+01, 4.0000e+00, 1.0000e+00, 0.0000e+00,\n",
              "        0.0000e+00, 1.0000e+01, 0.0000e+00],\n",
              "       [6.3000e+01, 9.0000e+00, 4.0000e+00, 1.0000e+00, 0.0000e+00,\n",
              "        0.0000e+00, 4.5000e+01, 0.0000e+00],\n",
              "       [6.6000e+01, 9.0000e+00, 4.0000e+00, 1.0000e+00, 2.0500e+03,\n",
              "        0.0000e+00, 5.5000e+01, 0.0000e+00],\n",
              "       [6.7000e+01, 7.0000e+00, 4.0000e+00, 1.0000e+00, 0.0000e+00,\n",
              "        0.0000e+00, 8.0000e+00, 0.0000e+00],\n",
              "       [6.5000e+01, 7.0000e+00, 3.0000e+00, 1.0000e+00, 0.0000e+00,\n",
              "        0.0000e+00, 4.0000e+01, 0.0000e+00],\n",
              "       [6.2000e+01, 1.4000e+01, 4.0000e+00, 1.0000e+00, 0.0000e+00,\n",
              "        0.0000e+00, 4.0000e+01, 1.0000e+00],\n",
              "       [6.3000e+01, 9.0000e+00, 4.0000e+00, 1.0000e+00, 0.0000e+00,\n",
              "        0.0000e+00, 4.0000e+01, 1.0000e+00],\n",
              "       [8.0000e+01, 9.0000e+00, 4.0000e+00, 1.0000e+00, 0.0000e+00,\n",
              "        0.0000e+00, 2.4000e+01, 0.0000e+00],\n",
              "       [6.7000e+01, 1.1000e+01, 4.0000e+00, 0.0000e+00, 0.0000e+00,\n",
              "        0.0000e+00, 2.4000e+01, 0.0000e+00],\n",
              "       [6.3000e+01, 2.0000e+00, 4.0000e+00, 1.0000e+00, 0.0000e+00,\n",
              "        0.0000e+00, 3.5000e+01, 0.0000e+00],\n",
              "       [7.2000e+01, 9.0000e+00, 4.0000e+00, 1.0000e+00, 0.0000e+00,\n",
              "        0.0000e+00, 2.0000e+01, 0.0000e+00],\n",
              "       [6.2000e+01, 9.0000e+00, 4.0000e+00, 1.0000e+00, 0.0000e+00,\n",
              "        0.0000e+00, 4.0000e+01, 0.0000e+00],\n",
              "       [7.4000e+01, 1.0000e+01, 4.0000e+00, 0.0000e+00, 0.0000e+00,\n",
              "        0.0000e+00, 9.0000e+00, 0.0000e+00],\n",
              "       [6.7000e+01, 1.5000e+01, 4.0000e+00, 1.0000e+00, 2.0051e+04,\n",
              "        0.0000e+00, 4.8000e+01, 1.0000e+00],\n",
              "       [7.2000e+01, 7.0000e+00, 4.0000e+00, 0.0000e+00, 0.0000e+00,\n",
              "        0.0000e+00, 4.0000e+01, 0.0000e+00],\n",
              "       [6.9000e+01, 7.0000e+00, 4.0000e+00, 0.0000e+00, 0.0000e+00,\n",
              "        0.0000e+00, 4.0000e+01, 0.0000e+00],\n",
              "       [6.5000e+01, 1.0000e+01, 4.0000e+00, 1.0000e+00, 0.0000e+00,\n",
              "        0.0000e+00, 3.0000e+01, 1.0000e+00],\n",
              "       [6.5000e+01, 5.0000e+00, 2.0000e+00, 0.0000e+00, 0.0000e+00,\n",
              "        0.0000e+00, 2.4000e+01, 0.0000e+00],\n",
              "       [7.1000e+01, 9.0000e+00, 4.0000e+00, 1.0000e+00, 0.0000e+00,\n",
              "        0.0000e+00, 1.5000e+01, 0.0000e+00],\n",
              "       [7.0000e+01, 5.0000e+00, 4.0000e+00, 0.0000e+00, 1.1110e+03,\n",
              "        0.0000e+00, 1.5000e+01, 0.0000e+00],\n",
              "       [6.6000e+01, 4.0000e+00, 4.0000e+00, 1.0000e+00, 0.0000e+00,\n",
              "        0.0000e+00, 4.0000e+00, 0.0000e+00],\n",
              "       [6.5000e+01, 7.0000e+00, 4.0000e+00, 1.0000e+00, 9.3860e+03,\n",
              "        0.0000e+00, 5.9000e+01, 1.0000e+00],\n",
              "       [6.1000e+01, 9.0000e+00, 4.0000e+00, 1.0000e+00, 0.0000e+00,\n",
              "        2.3520e+03, 5.0000e+01, 0.0000e+00],\n",
              "       [6.1000e+01, 9.0000e+00, 4.0000e+00, 1.0000e+00, 0.0000e+00,\n",
              "        0.0000e+00, 4.0000e+01, 0.0000e+00],\n",
              "       [6.8000e+01, 7.0000e+00, 4.0000e+00, 1.0000e+00, 0.0000e+00,\n",
              "        0.0000e+00, 2.0000e+01, 0.0000e+00],\n",
              "       [6.4000e+01, 1.3000e+01, 4.0000e+00, 1.0000e+00, 0.0000e+00,\n",
              "        0.0000e+00, 4.0000e+01, 1.0000e+00],\n",
              "       [6.4000e+01, 9.0000e+00, 4.0000e+00, 1.0000e+00, 0.0000e+00,\n",
              "        0.0000e+00, 4.5000e+01, 0.0000e+00],\n",
              "       [6.2000e+01, 9.0000e+00, 4.0000e+00, 0.0000e+00, 0.0000e+00,\n",
              "        0.0000e+00, 4.0000e+01, 0.0000e+00],\n",
              "       [7.3000e+01, 9.0000e+00, 4.0000e+00, 1.0000e+00, 0.0000e+00,\n",
              "        0.0000e+00, 4.0000e+01, 0.0000e+00],\n",
              "       [7.2000e+01, 7.0000e+00, 4.0000e+00, 0.0000e+00, 0.0000e+00,\n",
              "        0.0000e+00, 2.4000e+01, 0.0000e+00],\n",
              "       [6.3000e+01, 9.0000e+00, 4.0000e+00, 1.0000e+00, 0.0000e+00,\n",
              "        0.0000e+00, 6.0000e+00, 0.0000e+00],\n",
              "       [6.2000e+01, 1.3000e+01, 4.0000e+00, 0.0000e+00, 0.0000e+00,\n",
              "        0.0000e+00, 4.8000e+01, 0.0000e+00],\n",
              "       [6.1000e+01, 1.4000e+01, 4.0000e+00, 0.0000e+00, 0.0000e+00,\n",
              "        0.0000e+00, 4.0000e+01, 1.0000e+00],\n",
              "       [7.1000e+01, 1.4000e+01, 4.0000e+00, 1.0000e+00, 1.0605e+04,\n",
              "        0.0000e+00, 4.0000e+01, 1.0000e+00],\n",
              "       [6.3000e+01, 1.0000e+01, 4.0000e+00, 1.0000e+00, 0.0000e+00,\n",
              "        0.0000e+00, 1.5000e+01, 0.0000e+00],\n",
              "       [6.3000e+01, 4.0000e+00, 4.0000e+00, 1.0000e+00, 0.0000e+00,\n",
              "        0.0000e+00, 5.5000e+01, 0.0000e+00],\n",
              "       [6.7000e+01, 9.0000e+00, 1.0000e+00, 1.0000e+00, 0.0000e+00,\n",
              "        0.0000e+00, 4.0000e+01, 1.0000e+00],\n",
              "       [8.1000e+01, 9.0000e+00, 4.0000e+00, 1.0000e+00, 0.0000e+00,\n",
              "        0.0000e+00, 3.0000e+01, 0.0000e+00],\n",
              "       [6.4000e+01, 9.0000e+00, 4.0000e+00, 1.0000e+00, 0.0000e+00,\n",
              "        0.0000e+00, 5.0000e+00, 0.0000e+00],\n",
              "       [6.7000e+01, 1.3000e+01, 4.0000e+00, 1.0000e+00, 0.0000e+00,\n",
              "        2.3920e+03, 4.0000e+01, 1.0000e+00],\n",
              "       [7.8000e+01, 9.0000e+00, 2.0000e+00, 0.0000e+00, 2.9640e+03,\n",
              "        0.0000e+00, 4.0000e+01, 0.0000e+00],\n",
              "       [6.3000e+01, 1.1000e+01, 4.0000e+00, 0.0000e+00, 0.0000e+00,\n",
              "        0.0000e+00, 2.0000e+01, 0.0000e+00]])"
            ]
          },
          "metadata": {},
          "execution_count": 79
        }
      ]
    },
    {
      "cell_type": "markdown",
      "source": [
        "Add all the working hours(working hours is the column with index 6) of 'senior_citizens' and store it in a variable called 'working_hours_sum'\n",
        "\n"
      ],
      "metadata": {
        "id": "OecVi_miHA8V"
      }
    },
    {
      "cell_type": "code",
      "source": [
        "working_hours_sum = np.sum(senior_citizen[:,6])"
      ],
      "metadata": {
        "id": "yvo333UtGoQh"
      },
      "execution_count": null,
      "outputs": []
    },
    {
      "cell_type": "code",
      "source": [
        "working_hours_sum"
      ],
      "metadata": {
        "colab": {
          "base_uri": "https://localhost:8080/"
        },
        "id": "Og_1ljMJHeuy",
        "outputId": "082b7be9-ab2a-4be7-a52c-81acfe3f3816"
      },
      "execution_count": null,
      "outputs": [
        {
          "output_type": "execute_result",
          "data": {
            "text/plain": [
              "1917.0"
            ]
          },
          "metadata": {},
          "execution_count": 81
        }
      ]
    },
    {
      "cell_type": "markdown",
      "source": [
        "Find the length of 'senior_citizens' and store it in a variable called 'senior_citizens_len'"
      ],
      "metadata": {
        "id": "pcwAadz2G_2D"
      }
    },
    {
      "cell_type": "code",
      "source": [
        "senior_citizens_len = len(senior_citizen)"
      ],
      "metadata": {
        "id": "lhRKcQN_GoTp"
      },
      "execution_count": null,
      "outputs": []
    },
    {
      "cell_type": "code",
      "source": [
        "senior_citizens_len"
      ],
      "metadata": {
        "colab": {
          "base_uri": "https://localhost:8080/"
        },
        "id": "hjsIYnvAGoXl",
        "outputId": "3f6f4d19-2965-4fc9-f74b-9d509bb5083e"
      },
      "execution_count": null,
      "outputs": [
        {
          "output_type": "execute_result",
          "data": {
            "text/plain": [
              "61"
            ]
          },
          "metadata": {},
          "execution_count": 83
        }
      ]
    },
    {
      "cell_type": "markdown",
      "source": [
        "Finally find the average working hours of the senior citizens by dividing 'working_hours_sum' by 'senior_citizens_len' and store it in a variable called 'avg_working hours'."
      ],
      "metadata": {
        "id": "RKbO9Bd3H59i"
      }
    },
    {
      "cell_type": "code",
      "source": [
        "avg_working_hours = working_hours_sum/senior_citizens_len"
      ],
      "metadata": {
        "id": "IYMBTE1WGobK"
      },
      "execution_count": null,
      "outputs": []
    },
    {
      "cell_type": "code",
      "source": [
        "avg_working_hours"
      ],
      "metadata": {
        "colab": {
          "base_uri": "https://localhost:8080/"
        },
        "id": "YFuuopyaGoeo",
        "outputId": "e4917138-66f8-45af-dbe6-80f51a42f614"
      },
      "execution_count": null,
      "outputs": [
        {
          "output_type": "execute_result",
          "data": {
            "text/plain": [
              "31.42622950819672"
            ]
          },
          "metadata": {},
          "execution_count": 86
        }
      ]
    },
    {
      "cell_type": "markdown",
      "source": [
        "Print 'avg_working_hours' and see if the govt. policy is followed."
      ],
      "metadata": {
        "id": "YnDveWdqITdZ"
      }
    },
    {
      "cell_type": "code",
      "source": [
        "print(avg_working_hours)"
      ],
      "metadata": {
        "colab": {
          "base_uri": "https://localhost:8080/"
        },
        "id": "hL1Il44mINvZ",
        "outputId": "d03d2be2-c8a9-436a-99d0-c490ba18cb0e"
      },
      "execution_count": null,
      "outputs": [
        {
          "output_type": "stream",
          "name": "stdout",
          "text": [
            "31.42622950819672\n"
          ]
        }
      ]
    },
    {
      "cell_type": "markdown",
      "source": [
        " **Let's check that higher educated people have better pay in general.**"
      ],
      "metadata": {
        "id": "2-qWf28YIcdM"
      }
    },
    {
      "cell_type": "markdown",
      "source": [
        "Create two new subset arrays called 'high' and 'low' by filtering 'census' according to education-num>10 and education-num<=10 (education-num is the column with index 1) respectively."
      ],
      "metadata": {
        "id": "SKfwVfNaIigT"
      }
    },
    {
      "cell_type": "code",
      "source": [
        "high = data[data[:,1]>10]"
      ],
      "metadata": {
        "id": "PdBa-nf-IlrS"
      },
      "execution_count": null,
      "outputs": []
    },
    {
      "cell_type": "code",
      "source": [
        "high"
      ],
      "metadata": {
        "colab": {
          "base_uri": "https://localhost:8080/"
        },
        "id": "JBJAVlKCI2Ex",
        "outputId": "05791c82-65d9-4d17-9229-0b83110dc3c3"
      },
      "execution_count": null,
      "outputs": [
        {
          "output_type": "execute_result",
          "data": {
            "text/plain": [
              "array([[39., 13.,  4., ...,  0., 40.,  0.],\n",
              "       [50., 13.,  4., ...,  0., 13.,  0.],\n",
              "       [28., 13.,  2., ...,  0., 40.,  0.],\n",
              "       ...,\n",
              "       [48., 13.,  4., ...,  0., 58.,  1.],\n",
              "       [39., 13.,  4., ...,  0., 50.,  1.],\n",
              "       [21., 15.,  4., ...,  0., 35.,  0.]])"
            ]
          },
          "metadata": {},
          "execution_count": 89
        }
      ]
    },
    {
      "cell_type": "code",
      "source": [
        "len(high)"
      ],
      "metadata": {
        "colab": {
          "base_uri": "https://localhost:8080/"
        },
        "id": "Dp8-EJUQJMK6",
        "outputId": "6606fd56-9adb-400d-a863-17a71e578f4f"
      },
      "execution_count": null,
      "outputs": [
        {
          "output_type": "execute_result",
          "data": {
            "text/plain": [
              "328"
            ]
          },
          "metadata": {},
          "execution_count": 92
        }
      ]
    },
    {
      "cell_type": "code",
      "source": [
        "low = data[data[:,1]<10]"
      ],
      "metadata": {
        "id": "wc8yDHspI2Bu"
      },
      "execution_count": null,
      "outputs": []
    },
    {
      "cell_type": "code",
      "source": [
        "low"
      ],
      "metadata": {
        "colab": {
          "base_uri": "https://localhost:8080/"
        },
        "id": "zw3oM5nFI1-w",
        "outputId": "8b1bdc31-8442-4b38-b47a-349e9cfb90f3"
      },
      "execution_count": null,
      "outputs": [
        {
          "output_type": "execute_result",
          "data": {
            "text/plain": [
              "array([[38.,  9.,  4., ...,  0., 40.,  0.],\n",
              "       [53.,  7.,  2., ...,  0., 40.,  0.],\n",
              "       [49.,  5.,  2., ...,  0., 16.,  0.],\n",
              "       ...,\n",
              "       [47.,  9.,  4., ...,  0., 50.,  1.],\n",
              "       [35.,  9.,  4., ...,  0., 45.,  0.],\n",
              "       [56.,  9.,  4., ...,  0., 55.,  1.]])"
            ]
          },
          "metadata": {},
          "execution_count": 91
        }
      ]
    },
    {
      "cell_type": "code",
      "source": [
        "len(low)"
      ],
      "metadata": {
        "colab": {
          "base_uri": "https://localhost:8080/"
        },
        "id": "OIHFbyVdJQ-a",
        "outputId": "f8a8aa2b-6ec3-48d4-e31b-4d4cad4a8fcc"
      },
      "execution_count": null,
      "outputs": [
        {
          "output_type": "execute_result",
          "data": {
            "text/plain": [
              "448"
            ]
          },
          "metadata": {},
          "execution_count": 93
        }
      ]
    },
    {
      "cell_type": "markdown",
      "source": [
        "Find the mean of income column(income is the column with index 7) of 'high' array and store it in 'avg_pay_high'. Do the same for 'low' array and store it's mean in 'avg_pay_low'."
      ],
      "metadata": {
        "id": "vneESEZOJbma"
      }
    },
    {
      "cell_type": "code",
      "source": [
        "avg_pay_high =np.mean(high[:,7])"
      ],
      "metadata": {
        "id": "FxlL-39UJdBa"
      },
      "execution_count": null,
      "outputs": []
    },
    {
      "cell_type": "code",
      "source": [
        "avg_pay_high"
      ],
      "metadata": {
        "colab": {
          "base_uri": "https://localhost:8080/"
        },
        "id": "IvugSmAYJ_6y",
        "outputId": "8ad18fad-c641-4e7a-cb96-c0d345b27c14"
      },
      "execution_count": null,
      "outputs": [
        {
          "output_type": "execute_result",
          "data": {
            "text/plain": [
              "0.4268292682926829"
            ]
          },
          "metadata": {},
          "execution_count": 96
        }
      ]
    },
    {
      "cell_type": "code",
      "source": [
        "avg_pay_low = np.mean(low[:,7])"
      ],
      "metadata": {
        "id": "klMWGdyUJ_xo"
      },
      "execution_count": null,
      "outputs": []
    },
    {
      "cell_type": "code",
      "source": [
        "avg_pay_low"
      ],
      "metadata": {
        "colab": {
          "base_uri": "https://localhost:8080/"
        },
        "id": "rm2sq0ytKKCR",
        "outputId": "275518ad-0c96-4f60-961d-10fc3eb069c0"
      },
      "execution_count": null,
      "outputs": [
        {
          "output_type": "execute_result",
          "data": {
            "text/plain": [
              "0.12723214285714285"
            ]
          },
          "metadata": {},
          "execution_count": 98
        }
      ]
    }
  ]
}