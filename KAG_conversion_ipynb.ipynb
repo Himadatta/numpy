{
  "nbformat": 4,
  "nbformat_minor": 0,
  "metadata": {
    "colab": {
      "provenance": []
    },
    "kernelspec": {
      "name": "python3",
      "display_name": "Python 3"
    },
    "language_info": {
      "name": "python"
    }
  },
  "cells": [
    {
      "cell_type": "markdown",
      "source": [
        "Instructions:\n",
        "Load the data. Data is already given to you in variable path\n",
        "\n",
        "How many unique ad campaigns (xyzcampaignid) does this data contain ? And for how many times was each campaign run ?\n",
        "\n",
        "What are the age groups that were targeted through these ad campaigns?\n",
        "\n",
        "What was the average, minimum and maximum amount spent on the ads?\n",
        "\n",
        "What is the id of the ad having the maximum number of clicks ?\n",
        "\n",
        "How many people bought the product after seeing the ad with most clicks? Is that the maximum number of purchases in this dataset?\n",
        "\n",
        "So the ad with the most clicks didn't fetch the maximum number of purchases. Find the details of the product having maximum number of purchases"
      ],
      "metadata": {
        "id": "cpwtuclDaimy"
      }
    },
    {
      "cell_type": "code",
      "source": [
        "import numpy as np"
      ],
      "metadata": {
        "id": "ZYZuh0Gr75vd"
      },
      "execution_count": null,
      "outputs": []
    },
    {
      "cell_type": "code",
      "source": [
        "data_file = '/content/KAG_Conversion_Data.csv'"
      ],
      "metadata": {
        "id": "MXMZobyy9I16"
      },
      "execution_count": null,
      "outputs": []
    },
    {
      "cell_type": "code",
      "source": [
        "data = np.genfromtxt(data_file,delimiter=\",\",skip_header=1)"
      ],
      "metadata": {
        "id": "o_q5An0Q9I4E"
      },
      "execution_count": null,
      "outputs": []
    },
    {
      "cell_type": "code",
      "source": [
        "data"
      ],
      "metadata": {
        "colab": {
          "base_uri": "https://localhost:8080/"
        },
        "id": "51fBDOCY9I65",
        "outputId": "a870ea1d-63c6-4231-f54b-c2211d54c447"
      },
      "execution_count": null,
      "outputs": [
        {
          "output_type": "execute_result",
          "data": {
            "text/plain": [
              "array([[7.08746000e+05, 9.16000000e+02, 1.03916000e+05, ...,\n",
              "        1.42999995e+00, 2.00000000e+00, 1.00000000e+00],\n",
              "       [7.08749000e+05, 9.16000000e+02, 1.03917000e+05, ...,\n",
              "        1.82000002e+00, 2.00000000e+00, 0.00000000e+00],\n",
              "       [7.08771000e+05, 9.16000000e+02, 1.03920000e+05, ...,\n",
              "        0.00000000e+00, 1.00000000e+00, 0.00000000e+00],\n",
              "       ...,\n",
              "       [1.31441200e+06, 1.17800000e+03, 1.79979000e+05, ...,\n",
              "        4.02899995e+01, 2.00000000e+00, 0.00000000e+00],\n",
              "       [1.31441400e+06, 1.17800000e+03, 1.79981000e+05, ...,\n",
              "        1.98710001e+02, 8.00000000e+00, 2.00000000e+00],\n",
              "       [1.31441500e+06, 1.17800000e+03, 1.79982000e+05, ...,\n",
              "        1.65609999e+02, 5.00000000e+00, 2.00000000e+00]])"
            ]
          },
          "metadata": {},
          "execution_count": 15
        }
      ]
    },
    {
      "cell_type": "code",
      "source": [
        "# extract the relevant columns\n",
        "ad_id = data[:,0].astype(int)\n",
        "xyz_campaign_id = data[:,1].astype(int)\n",
        "fb_campaign_id = data[:,2].astype(int)\n",
        "age = data[:,3]\n",
        "spent = data[:,8].astype(float)\n",
        "clicks = data[:,7].astype(int)\n",
        "approved_conversion =data[:,10].astype(int)"
      ],
      "metadata": {
        "id": "Rwo9dS9T9I9Z"
      },
      "execution_count": null,
      "outputs": []
    },
    {
      "cell_type": "code",
      "source": [
        "xyz_unique_campaign = np.unique(xyz_campaign_id).size"
      ],
      "metadata": {
        "id": "A1cTMNgN9JAP"
      },
      "execution_count": null,
      "outputs": []
    },
    {
      "cell_type": "code",
      "source": [
        "xyz_unique_campaign"
      ],
      "metadata": {
        "colab": {
          "base_uri": "https://localhost:8080/"
        },
        "id": "lYWXAkeM9JC_",
        "outputId": "2f0b9de5-3587-4820-bc84-36a65c33596f"
      },
      "execution_count": null,
      "outputs": [
        {
          "output_type": "execute_result",
          "data": {
            "text/plain": [
              "3"
            ]
          },
          "metadata": {},
          "execution_count": 18
        }
      ]
    },
    {
      "cell_type": "code",
      "source": [
        "fb_unique_campaign = np.unique(fb_campaign_id).size"
      ],
      "metadata": {
        "id": "DbA8c9ah9JFk"
      },
      "execution_count": null,
      "outputs": []
    },
    {
      "cell_type": "code",
      "source": [
        "fb_unique_campaign"
      ],
      "metadata": {
        "colab": {
          "base_uri": "https://localhost:8080/"
        },
        "id": "bnAjMRmG_od0",
        "outputId": "0888fa50-c28f-4230-94e9-d89692d7ee1f"
      },
      "execution_count": null,
      "outputs": [
        {
          "output_type": "execute_result",
          "data": {
            "text/plain": [
              "691"
            ]
          },
          "metadata": {},
          "execution_count": 21
        }
      ]
    },
    {
      "cell_type": "code",
      "source": [
        "campaign_ids,campaign_counts = np.unique(xyz_campaign_id,return_counts=True)"
      ],
      "metadata": {
        "id": "qialTK2f9JIV"
      },
      "execution_count": null,
      "outputs": []
    },
    {
      "cell_type": "code",
      "source": [
        "campaign_runs = dict(zip(campaign_ids,campaign_counts))"
      ],
      "metadata": {
        "id": "qNdL3x6a9JK4"
      },
      "execution_count": null,
      "outputs": []
    },
    {
      "cell_type": "code",
      "source": [
        "campaign_runs"
      ],
      "metadata": {
        "colab": {
          "base_uri": "https://localhost:8080/"
        },
        "id": "YnCv0Cw_9JOA",
        "outputId": "7499af07-6f3f-411d-c2e1-4049e09604fa"
      },
      "execution_count": null,
      "outputs": [
        {
          "output_type": "execute_result",
          "data": {
            "text/plain": [
              "{916: 54, 936: 464, 1178: 625}"
            ]
          },
          "metadata": {},
          "execution_count": 24
        }
      ]
    },
    {
      "cell_type": "code",
      "source": [
        "targeted_age_groups = np.unique(age)"
      ],
      "metadata": {
        "id": "MGKqzlgY9JRC"
      },
      "execution_count": null,
      "outputs": []
    },
    {
      "cell_type": "code",
      "source": [
        "targeted_age_groups"
      ],
      "metadata": {
        "colab": {
          "base_uri": "https://localhost:8080/"
        },
        "id": "ih5KO6QX9JTv",
        "outputId": "763c5dd4-7749-4eac-a6cc-4973253309ec"
      },
      "execution_count": null,
      "outputs": [
        {
          "output_type": "execute_result",
          "data": {
            "text/plain": [
              "array([nan])"
            ]
          },
          "metadata": {},
          "execution_count": 26
        }
      ]
    },
    {
      "cell_type": "code",
      "source": [
        "average_spent = np.mean(spent)"
      ],
      "metadata": {
        "id": "tU120dvZ9JXL"
      },
      "execution_count": null,
      "outputs": []
    },
    {
      "cell_type": "code",
      "source": [
        "average_spent"
      ],
      "metadata": {
        "colab": {
          "base_uri": "https://localhost:8080/"
        },
        "id": "GHOasL5WA5xr",
        "outputId": "126b302f-2ed3-4be1-ae89-6612b5f6ebd0"
      },
      "execution_count": null,
      "outputs": [
        {
          "output_type": "execute_result",
          "data": {
            "text/plain": [
              "51.36065613141295"
            ]
          },
          "metadata": {},
          "execution_count": 28
        }
      ]
    },
    {
      "cell_type": "code",
      "source": [
        "minimum_spent = np.min(spent)"
      ],
      "metadata": {
        "id": "2IyoJ_GfA5tt"
      },
      "execution_count": null,
      "outputs": []
    },
    {
      "cell_type": "code",
      "source": [
        "minimum_spent"
      ],
      "metadata": {
        "colab": {
          "base_uri": "https://localhost:8080/"
        },
        "id": "mhM5d7BzA5qc",
        "outputId": "7264481e-c8bc-482c-f80d-94a28fad8550"
      },
      "execution_count": null,
      "outputs": [
        {
          "output_type": "execute_result",
          "data": {
            "text/plain": [
              "0.0"
            ]
          },
          "metadata": {},
          "execution_count": 30
        }
      ]
    },
    {
      "cell_type": "code",
      "source": [
        "maximum_spent =np.max(spent)"
      ],
      "metadata": {
        "id": "1prKkH56A5nB"
      },
      "execution_count": null,
      "outputs": []
    },
    {
      "cell_type": "code",
      "source": [
        "maximum_spent"
      ],
      "metadata": {
        "colab": {
          "base_uri": "https://localhost:8080/"
        },
        "id": "WzjnN7ZLA5kN",
        "outputId": "74ff0a03-c782-40f6-e271-286f96dc421a"
      },
      "execution_count": null,
      "outputs": [
        {
          "output_type": "execute_result",
          "data": {
            "text/plain": [
              "639.9499981"
            ]
          },
          "metadata": {},
          "execution_count": 32
        }
      ]
    },
    {
      "cell_type": "code",
      "source": [
        "max_clicks_index = np.argmax(clicks)"
      ],
      "metadata": {
        "id": "m7RI7hiBA5hn"
      },
      "execution_count": null,
      "outputs": []
    },
    {
      "cell_type": "code",
      "source": [
        "max_clicks_ad_id = ad_id[max_clicks_index]"
      ],
      "metadata": {
        "id": "kmkI-pXFA5ey"
      },
      "execution_count": null,
      "outputs": []
    },
    {
      "cell_type": "code",
      "source": [
        "max_clicks =clicks[max_clicks_index]"
      ],
      "metadata": {
        "id": "FPoQ07jeA5cx"
      },
      "execution_count": null,
      "outputs": []
    },
    {
      "cell_type": "code",
      "source": [
        "max_clicks"
      ],
      "metadata": {
        "colab": {
          "base_uri": "https://localhost:8080/"
        },
        "id": "wyYoxrNMCvWC",
        "outputId": "55a91028-61eb-4392-9d1a-be59a3da83db"
      },
      "execution_count": null,
      "outputs": [
        {
          "output_type": "execute_result",
          "data": {
            "text/plain": [
              "421"
            ]
          },
          "metadata": {},
          "execution_count": 36
        }
      ]
    },
    {
      "cell_type": "code",
      "source": [
        "purchases_max_clicks = approved_conversion[max_clicks_index]"
      ],
      "metadata": {
        "id": "RgX_J6PRCvaf"
      },
      "execution_count": null,
      "outputs": []
    },
    {
      "cell_type": "code",
      "source": [
        "purchases_max_clicks"
      ],
      "metadata": {
        "colab": {
          "base_uri": "https://localhost:8080/"
        },
        "id": "l8oJf94fCvdJ",
        "outputId": "34dbf1f0-b1b1-4fa1-fb6c-4585b82a81ec"
      },
      "execution_count": null,
      "outputs": [
        {
          "output_type": "execute_result",
          "data": {
            "text/plain": [
              "13"
            ]
          },
          "metadata": {},
          "execution_count": 38
        }
      ]
    },
    {
      "cell_type": "code",
      "source": [
        "max_purchases = np.max(approved_conversion)"
      ],
      "metadata": {
        "id": "e9Sr5WELCvgO"
      },
      "execution_count": null,
      "outputs": []
    },
    {
      "cell_type": "code",
      "source": [
        "max_purchases"
      ],
      "metadata": {
        "colab": {
          "base_uri": "https://localhost:8080/"
        },
        "id": "yVemn2QwCvjP",
        "outputId": "bf0db522-09e7-4d32-e3ee-fffcf897ad3c"
      },
      "execution_count": null,
      "outputs": [
        {
          "output_type": "execute_result",
          "data": {
            "text/plain": [
              "21"
            ]
          },
          "metadata": {},
          "execution_count": 41
        }
      ]
    },
    {
      "cell_type": "code",
      "source": [
        "max_purchases_index = np.argmax(approved_conversion)"
      ],
      "metadata": {
        "id": "AiPZMoYYCvnV"
      },
      "execution_count": null,
      "outputs": []
    },
    {
      "cell_type": "code",
      "source": [
        "max_purchases_index"
      ],
      "metadata": {
        "colab": {
          "base_uri": "https://localhost:8080/"
        },
        "id": "sHt3Yx8nWhy5",
        "outputId": "168a7b45-d3a8-439c-f216-4df6a555d060"
      },
      "execution_count": null,
      "outputs": [
        {
          "output_type": "execute_result",
          "data": {
            "text/plain": [
              "528"
            ]
          },
          "metadata": {},
          "execution_count": 44
        }
      ]
    },
    {
      "cell_type": "code",
      "source": [
        "max_purchases_ad_details= data[max_purchases_index]"
      ],
      "metadata": {
        "id": "shiyYA-0Whv3"
      },
      "execution_count": null,
      "outputs": []
    },
    {
      "cell_type": "code",
      "source": [
        "max_purchases_ad_details"
      ],
      "metadata": {
        "colab": {
          "base_uri": "https://localhost:8080/"
        },
        "id": "K1yh4Vd1Xlmj",
        "outputId": "924bf11b-791c-44d0-8e67-2629abc1e773"
      },
      "execution_count": null,
      "outputs": [
        {
          "output_type": "execute_result",
          "data": {
            "text/plain": [
              "array([1.12110400e+06, 1.17800000e+03, 1.44533000e+05,            nan,\n",
              "                  nan, 1.60000000e+01, 2.08066600e+06, 2.02000000e+02,\n",
              "       3.60150001e+02, 4.00000000e+01, 2.10000000e+01])"
            ]
          },
          "metadata": {},
          "execution_count": 49
        }
      ]
    }
  ]
}